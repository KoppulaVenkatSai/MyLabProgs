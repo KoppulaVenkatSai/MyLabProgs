{
 "cells": [
  {
   "cell_type": "code",
   "execution_count": 1,
   "id": "f5667aaf",
   "metadata": {},
   "outputs": [
    {
     "name": "stdout",
     "output_type": "stream",
     "text": [
      "Enter the value of n: 5\n",
      "The average of first n natural numbers is: 3.0\n"
     ]
    }
   ],
   "source": [
    "n = int(input(\"Enter the value of n: \"))\n",
    "sum = 0\n",
    "for i in range(1, n+1):\n",
    "    sum += i\n",
    "print(\"The average of first n natural numbers is:\",sum/n)"
   ]
  },
  {
   "cell_type": "code",
   "execution_count": 3,
   "id": "6a26b7c1",
   "metadata": {},
   "outputs": [
    {
     "name": "stdout",
     "output_type": "stream",
     "text": [
      "Enter the number: 10\n",
      "10 * 1 = 10\n",
      "10 * 2 = 20\n",
      "10 * 3 = 30\n",
      "10 * 4 = 40\n",
      "10 * 5 = 50\n",
      "10 * 6 = 60\n",
      "10 * 7 = 70\n",
      "10 * 8 = 80\n",
      "10 * 9 = 90\n",
      "10 * 10 = 100\n"
     ]
    }
   ],
   "source": [
    "n = int(input(\"Enter the number: \"))\n",
    "for i in range(1, 11):\n",
    "    print(n,\"*\",i,\"=\",n*i)"
   ]
  },
  {
   "cell_type": "code",
   "execution_count": 4,
   "id": "e1442081",
   "metadata": {},
   "outputs": [
    {
     "name": "stdout",
     "output_type": "stream",
     "text": [
      "Enter the value of m: 13\n",
      "Enter the value of n: 20\n",
      "13 is odd number\n",
      "14 is even number\n",
      "15 is odd number\n",
      "16 is even number\n",
      "17 is odd number\n",
      "18 is even number\n",
      "19 is odd number\n",
      "20 is even number\n"
     ]
    }
   ],
   "source": [
    "m = int(input(\"Enter the value of m: \"))\n",
    "n = int(input(\"Enter the value of n: \"))\n",
    "for i in range(m,n+1):\n",
    "    if i%2==0:\n",
    "        print(i,\"is even number\")\n",
    "    else:\n",
    "        print(i,\"is odd number\")"
   ]
  },
  {
   "cell_type": "code",
   "execution_count": 8,
   "id": "1d65ccd0",
   "metadata": {},
   "outputs": [
    {
     "name": "stdout",
     "output_type": "stream",
     "text": [
      "Enter the number: 6\n",
      "Factorial of 6 is 720\n"
     ]
    }
   ],
   "source": [
    "n = int(input(\"Enter the number: \"))\n",
    "if n == 0:\n",
    "    f = 1\n",
    "f = 1\n",
    "for i in range(1, n+1):\n",
    "    f*=i\n",
    "print(\"Factorial of\",n,\"is\",f)"
   ]
  },
  {
   "cell_type": "code",
   "execution_count": 11,
   "id": "dddafe0b",
   "metadata": {},
   "outputs": [
    {
     "name": "stdout",
     "output_type": "stream",
     "text": [
      "Enter number: 91\n",
      "91 is composite\n"
     ]
    }
   ],
   "source": [
    "n = int(input(\"Enter number: \"))\n",
    "flag = False\n",
    "for i in range(2, n//2+1):\n",
    "    if n % i:\n",
    "        flag = True\n",
    "        break\n",
    "if n == 1:\n",
    "    print(\"Enter another number\")\n",
    "elif flag == True:\n",
    "    print(n,\"is composite\")\n",
    "else:\n",
    "    print(n,\"is prime\")"
   ]
  },
  {
   "cell_type": "code",
   "execution_count": 14,
   "id": "fd3a6c4f",
   "metadata": {},
   "outputs": [
    {
     "name": "stdout",
     "output_type": "stream",
     "text": [
      "Enter number: 55\n",
      "Enter number: 89\n",
      "Enter number: 979\n",
      "Enter number: 4564\n",
      "Enter number: 67\n",
      "Enter number: 26\n",
      "Enter number: 97\n",
      "Enter number: 13\n",
      "Enter number: -1\n",
      "Total composite numbers: 4\n",
      "Total prime numbers: 4\n"
     ]
    }
   ],
   "source": [
    "tp = 0; tc = 0\n",
    "while True:\n",
    "    n = int(input(\"Enter number: \"))\n",
    "    if n == -1:\n",
    "        break\n",
    "    comp = 0\n",
    "    for i in range(2, n):\n",
    "        if n % i == 0:\n",
    "            comp = 1\n",
    "            break\n",
    "    if comp:\n",
    "        tc += 1\n",
    "    else:\n",
    "        tp += 1\n",
    "print(\"Total composite numbers:\",tc)\n",
    "print(\"Total prime numbers:\",tp)"
   ]
  },
  {
   "cell_type": "code",
   "execution_count": 15,
   "id": "1a684147",
   "metadata": {},
   "outputs": [
    {
     "name": "stdout",
     "output_type": "stream",
     "text": [
      "Enter the number: 2\n",
      "Enter the power to be raised: 10\n",
      "2 raised to power 10 is: 1024\n"
     ]
    }
   ],
   "source": [
    "x = int(input(\"Enter the number: \"))\n",
    "n = int(input(\"Enter the power to be raised: \"))\n",
    "print(x,\"raised to power\",n,\"is:\",x**n)"
   ]
  },
  {
   "cell_type": "code",
   "execution_count": 20,
   "id": "d6697c3d",
   "metadata": {},
   "outputs": [
    {
     "name": "stdout",
     "output_type": "stream",
     "text": [
      "Leap years from 1900 to 2022: \n",
      "1904 1908 1912 1916 1920 1924 1928 1932 1936 1940 1944 1948 1952 1956 1960 1964 1968 1972 1976 1980 1984 1988 1992 1996 2000 2004 2008 2012 2016 2020 "
     ]
    }
   ],
   "source": [
    "print(\"Leap years from 1900 to 2022: \")\n",
    "for i in range(1900, 2022):\n",
    "    if i % 4 == 0 and i % 100 != 0 :\n",
    "        print(i,end=\" \")\n",
    "    elif i % 400 == 0 :\n",
    "        print(i,end=\" \")"
   ]
  },
  {
   "cell_type": "code",
   "execution_count": 24,
   "id": "86e15b1c",
   "metadata": {},
   "outputs": [
    {
     "name": "stdout",
     "output_type": "stream",
     "text": [
      "Enter the number: 10\n",
      "The sum of series is: 2.9289682539682538\n"
     ]
    }
   ],
   "source": [
    "n = int(input(\"Enter the number: \"))\n",
    "s = 0.0\n",
    "for i in range(1, n+1):\n",
    "    a = 1.0/i\n",
    "    s = s+a\n",
    "print(\"The sum of series is:\",s)"
   ]
  },
  {
   "cell_type": "code",
   "execution_count": 25,
   "id": "078a051e",
   "metadata": {},
   "outputs": [
    {
     "name": "stdout",
     "output_type": "stream",
     "text": [
      "Enter the number: 10\n",
      "The sum of series is 1.5497677311665408\n"
     ]
    }
   ],
   "source": [
    "n = int(input(\"Enter the number: \"))\n",
    "s = 0.0\n",
    "for i in range(1, n+1):\n",
    "    a = 1.0/(i**2)\n",
    "    s+=a\n",
    "print(\"The sum of series is\", s)"
   ]
  },
  {
   "cell_type": "code",
   "execution_count": 26,
   "id": "f28b0e00",
   "metadata": {},
   "outputs": [
    {
     "name": "stdout",
     "output_type": "stream",
     "text": [
      "Enter the number: 10\n",
      "The sum of series is 2.019877344877345\n"
     ]
    }
   ],
   "source": [
    "n = int(input(\"Enter the number: \"))\n",
    "s = 0.0\n",
    "for i in range(1, n+1):\n",
    "    a = 1.0/(i+1)\n",
    "    s+=a\n",
    "print(\"The sum of series is\", s)"
   ]
  },
  {
   "cell_type": "code",
   "execution_count": 28,
   "id": "e548ae1c",
   "metadata": {},
   "outputs": [
    {
     "name": "stdout",
     "output_type": "stream",
     "text": [
      "Enter the number: 5\n",
      "The sum of series is 701.0\n"
     ]
    }
   ],
   "source": [
    "n = int(input(\"Enter the number: \"))\n",
    "s = 0.0\n",
    "for i in range(1, n+1):\n",
    "    a = float(i**i)/i\n",
    "    s+=a\n",
    "print(\"The sum of series is\", s)"
   ]
  },
  {
   "cell_type": "code",
   "execution_count": 29,
   "id": "23bccec1",
   "metadata": {},
   "outputs": [
    {
     "name": "stdout",
     "output_type": "stream",
     "text": [
      "Enter the number: 5\n",
      "The sum of series is 225.0\n"
     ]
    }
   ],
   "source": [
    "n = int(input(\"Enter the number: \"))\n",
    "s = 0.0\n",
    "for i in range(1, n+1):\n",
    "    a = i**3\n",
    "    s+=a\n",
    "print(\"The sum of series is\", s)"
   ]
  },
  {
   "cell_type": "code",
   "execution_count": 32,
   "id": "ffb1a3fa",
   "metadata": {},
   "outputs": [
    {
     "name": "stdout",
     "output_type": "stream",
     "text": [
      "Enter the number: 10\n",
      "The sum of even numbers less than 10 is: 220\n"
     ]
    }
   ],
   "source": [
    "n = int(input(\"Enter the number: \"))\n",
    "s = 0\n",
    "for i in range(1, n+1):\n",
    "    j = 0\n",
    "    if i % 2 == 0:\n",
    "        j = i**2\n",
    "    s+=j\n",
    "    j = 0\n",
    "print(\"The sum of even numbers less than\",n,\"is:\",s)"
   ]
  },
  {
   "cell_type": "code",
   "execution_count": 33,
   "id": "852ccbbc",
   "metadata": {},
   "outputs": [
    {
     "name": "stdout",
     "output_type": "stream",
     "text": [
      "Pass 1 - 1 2 3 4 5 \n",
      "Pass 2 - 1 2 3 4 5 \n",
      "Pass 3 - 1 2 3 4 5 \n",
      "Pass 4 - 1 2 3 4 5 \n",
      "Pass 5 - 1 2 3 4 5 \n"
     ]
    }
   ],
   "source": [
    "for i in range(1, 6):\n",
    "    print(\"Pass\",i,\"-\", end=\" \")\n",
    "    for j in range(1, 6):\n",
    "        print(j, end = \" \")\n",
    "    print()"
   ]
  },
  {
   "cell_type": "code",
   "execution_count": 34,
   "id": "8b136952",
   "metadata": {},
   "outputs": [
    {
     "name": "stdout",
     "output_type": "stream",
     "text": [
      "* * * * * \n",
      "* * * * * \n",
      "* * * * * \n",
      "* * * * * \n",
      "* * * * * \n"
     ]
    }
   ],
   "source": [
    "for i in range(5):\n",
    "    for j in range(5):\n",
    "        print(\"*\", end = \" \")\n",
    "    print()"
   ]
  },
  {
   "cell_type": "code",
   "execution_count": 36,
   "id": "984b4ffb",
   "metadata": {},
   "outputs": [
    {
     "name": "stdout",
     "output_type": "stream",
     "text": [
      "\n",
      "* \n",
      "* * \n",
      "* * * \n",
      "* * * * \n",
      "* * * * * \n"
     ]
    }
   ],
   "source": [
    "for i in range(6):\n",
    "    for j in range(i):\n",
    "        print(\"*\", end = \" \")\n",
    "    print()"
   ]
  },
  {
   "cell_type": "code",
   "execution_count": 42,
   "id": "e47a12e9",
   "metadata": {},
   "outputs": [
    {
     "name": "stdout",
     "output_type": "stream",
     "text": [
      "1 \n",
      "1 2 \n",
      "1 2 3 \n",
      "1 2 3 4 \n",
      "1 2 3 4 5 \n"
     ]
    }
   ],
   "source": [
    "for i in range(1,6):\n",
    "    for j in range(1,i+1):\n",
    "        print(j, end = \" \")\n",
    "    print()"
   ]
  },
  {
   "cell_type": "code",
   "execution_count": 43,
   "id": "f041e395",
   "metadata": {},
   "outputs": [
    {
     "name": "stdout",
     "output_type": "stream",
     "text": [
      "1 \n",
      "2 2 \n",
      "3 3 3 \n",
      "4 4 4 4 \n",
      "5 5 5 5 5 \n"
     ]
    }
   ],
   "source": [
    "for i in range(1,6):\n",
    "    for j in range(1,i+1):\n",
    "        print(i, end = \" \")\n",
    "    print()"
   ]
  },
  {
   "cell_type": "code",
   "execution_count": 44,
   "id": "363ac9ac",
   "metadata": {},
   "outputs": [
    {
     "name": "stdout",
     "output_type": "stream",
     "text": [
      "0 \n",
      "1 2 \n",
      "3 4 5 \n",
      "6 7 8 9 \n"
     ]
    }
   ],
   "source": [
    "cnt = 0\n",
    "for i in range(1,5):\n",
    "    for j in range(1,i+1):\n",
    "        print(cnt, end = \" \")\n",
    "        cnt+=1\n",
    "    print()"
   ]
  },
  {
   "cell_type": "code",
   "execution_count": 50,
   "id": "fdc1565e",
   "metadata": {},
   "outputs": [
    {
     "name": "stdout",
     "output_type": "stream",
     "text": [
      "        1 \n",
      "      1 2 1 \n",
      "    1 2 3 2 1 \n",
      "  1 2 3 4 3 2 1 \n",
      "1 2 3 4 5 4 3 2 1 \n"
     ]
    }
   ],
   "source": [
    "for i in range(1,6):\n",
    "    for j in range(5,i,-1):\n",
    "        print(\" \", end = \" \")\n",
    "    for k in range(1,i+1):\n",
    "        print(k, end = \" \")\n",
    "    for l in range(i-1,0,-1):\n",
    "        print(l, end = \" \")\n",
    "    print()"
   ]
  },
  {
   "cell_type": "code",
   "execution_count": 51,
   "id": "f99eea0e",
   "metadata": {},
   "outputs": [
    {
     "name": "stdout",
     "output_type": "stream",
     "text": [
      "    1 \n",
      "   2 2 \n",
      "  3 3 3 \n",
      " 4 4 4 4 \n",
      "5 5 5 5 5 \n"
     ]
    }
   ],
   "source": [
    "for i in range(1,6):\n",
    "    for j in range(5,i,-1):\n",
    "        print(\"\", end = \" \")\n",
    "    for k in range(1,i+1):\n",
    "        print(i, end = \" \")\n",
    "    print()"
   ]
  },
  {
   "cell_type": "code",
   "execution_count": null,
   "id": "f4e47e67",
   "metadata": {},
   "outputs": [],
   "source": []
  }
 ],
 "metadata": {
  "kernelspec": {
   "display_name": "Python 3",
   "language": "python",
   "name": "python3"
  },
  "language_info": {
   "codemirror_mode": {
    "name": "ipython",
    "version": 3
   },
   "file_extension": ".py",
   "mimetype": "text/x-python",
   "name": "python",
   "nbconvert_exporter": "python",
   "pygments_lexer": "ipython3",
   "version": "3.8.8"
  }
 },
 "nbformat": 4,
 "nbformat_minor": 5
}
