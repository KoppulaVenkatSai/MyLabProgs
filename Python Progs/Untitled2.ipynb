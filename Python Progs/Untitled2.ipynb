{
 "cells": [
  {
   "cell_type": "code",
   "execution_count": 1,
   "id": "e1363e09",
   "metadata": {},
   "outputs": [
    {
     "name": "stdout",
     "output_type": "stream",
     "text": [
      "<class 'int'>\n",
      "<class 'float'>\n",
      "<class 'complex'>\n"
     ]
    }
   ],
   "source": [
    "a = 10\n",
    "b = 1.0\n",
    "c = 53j\n",
    "print(type(a))\n",
    "print(type(b))\n",
    "print(type(c))"
   ]
  },
  {
   "cell_type": "code",
   "execution_count": 5,
   "id": "5f351eb2",
   "metadata": {},
   "outputs": [
    {
     "name": "stdout",
     "output_type": "stream",
     "text": [
      "int to float: 10.0\n",
      "float to complex: (1+0j)\n",
      "int to complex: 53j\n"
     ]
    }
   ],
   "source": [
    "a = 10\n",
    "b = 1.0\n",
    "c = 53j\n",
    "print(\"int to float:\",float(a))\n",
    "print(\"float to complex:\",complex(b))\n",
    "print(\"int to complex:\",complex(c))"
   ]
  },
  {
   "cell_type": "code",
   "execution_count": 7,
   "id": "0a4269dd",
   "metadata": {},
   "outputs": [
    {
     "name": "stdout",
     "output_type": "stream",
     "text": [
      "Generated Random number from range 0 to 100: 80\n"
     ]
    }
   ],
   "source": [
    "import random\n",
    "print(\"Generated Random number from range 0 to 100:\", random.randrange(0,100))"
   ]
  },
  {
   "cell_type": "code",
   "execution_count": 10,
   "id": "2104feac",
   "metadata": {},
   "outputs": [
    {
     "name": "stdout",
     "output_type": "stream",
     "text": [
      "True\n",
      "False\n",
      "False\n",
      "False\n"
     ]
    }
   ],
   "source": [
    "a = 1\n",
    "b = 1\n",
    "print(a==b)\n",
    "print(a!=b)\n",
    "print(a>b)\n",
    "print(a<b)"
   ]
  },
  {
   "cell_type": "code",
   "execution_count": 11,
   "id": "c2d7f7b0",
   "metadata": {},
   "outputs": [
    {
     "name": "stdout",
     "output_type": "stream",
     "text": [
      "False\n",
      "True\n",
      "False\n",
      "True\n"
     ]
    }
   ],
   "source": [
    "a = 1\n",
    "b = 10\n",
    "print(a==b)\n",
    "print(a!=b)\n",
    "print(a>b)\n",
    "print(a<b)"
   ]
  },
  {
   "cell_type": "code",
   "execution_count": 13,
   "id": "73f13c70",
   "metadata": {},
   "outputs": [
    {
     "name": "stdout",
     "output_type": "stream",
     "text": [
      "65942\n",
      "456\n",
      "59723232\n",
      "14930808.0\n"
     ]
    }
   ],
   "source": [
    "a = 456\n",
    "b = 65486\n",
    "c =2\n",
    "a+=b\n",
    "print(a)\n",
    "a-=b\n",
    "print(a)\n",
    "a*=b\n",
    "print(a*c)\n",
    "a/=c\n",
    "print(a)"
   ]
  },
  {
   "cell_type": "code",
   "execution_count": 15,
   "id": "16302b53",
   "metadata": {},
   "outputs": [
    {
     "name": "stdout",
     "output_type": "stream",
     "text": [
      "32\n",
      "118\n",
      "86\n",
      "400\n",
      "12\n"
     ]
    }
   ],
   "source": [
    "a = 100\n",
    "b = 50\n",
    "print(a&b)\n",
    "print(a|b)\n",
    "print(a^b)\n",
    "print(a<<2)\n",
    "print(a>>3)"
   ]
  },
  {
   "cell_type": "code",
   "execution_count": 22,
   "id": "dac4de23",
   "metadata": {},
   "outputs": [
    {
     "name": "stdout",
     "output_type": "stream",
     "text": [
      "654\n",
      "8758\n",
      "False\n"
     ]
    }
   ],
   "source": [
    "a = 8758\n",
    "b = 654\n",
    "c = False\n",
    "\n",
    "print(a and b)\n",
    "print(a or b)\n",
    "print(a and c)\n"
   ]
  },
  {
   "cell_type": "code",
   "execution_count": 30,
   "id": "396c9612",
   "metadata": {},
   "outputs": [
    {
     "name": "stdout",
     "output_type": "stream",
     "text": [
      "kat s\n",
      "m Venkat sai teja\n",
      "Hi iam Venkat sai te\n",
      "Hi iam Venkat sai teja\n",
      "t\n",
      "Hi iam Venkat sai tejaHi iam Venkat sai teja\n"
     ]
    }
   ],
   "source": [
    "str = \"Hi iam Venkat sai teja\"\n",
    "print(str[10:15])\n",
    "print(str[5:])\n",
    "print(str[:20])\n",
    "print(str[:])\n",
    "print(str[-4])\n",
    "print(str*2)"
   ]
  },
  {
   "cell_type": "code",
   "execution_count": null,
   "id": "56972b0d",
   "metadata": {},
   "outputs": [],
   "source": []
  },
  {
   "cell_type": "code",
   "execution_count": null,
   "id": "23d13c90",
   "metadata": {},
   "outputs": [],
   "source": []
  }
 ],
 "metadata": {
  "kernelspec": {
   "display_name": "Python 3",
   "language": "python",
   "name": "python3"
  },
  "language_info": {
   "codemirror_mode": {
    "name": "ipython",
    "version": 3
   },
   "file_extension": ".py",
   "mimetype": "text/x-python",
   "name": "python",
   "nbconvert_exporter": "python",
   "pygments_lexer": "ipython3",
   "version": "3.8.8"
  }
 },
 "nbformat": 4,
 "nbformat_minor": 5
}
