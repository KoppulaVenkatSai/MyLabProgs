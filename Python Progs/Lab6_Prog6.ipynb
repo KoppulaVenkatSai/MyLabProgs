{
 "cells": [
  {
   "cell_type": "code",
   "execution_count": 21,
   "metadata": {},
   "outputs": [
    {
     "name": "stdout",
     "output_type": "stream",
     "text": [
      "<re.Match object; span=(0, 2), match='Hi'>\n",
      "None\n"
     ]
    }
   ],
   "source": [
    "import re\n",
    "\n",
    "str = \"Hi we are csm students from kitsw p\"\n",
    "pattern = \"kitsw\"\n",
    "\n",
    "m = re.match(\"Hi\", str)\n",
    "n = re.match(pattern, str)\n",
    "\n",
    "print(m)\n",
    "print(n)"
   ]
  },
  {
   "cell_type": "code",
   "execution_count": 19,
   "metadata": {},
   "outputs": [
    {
     "name": "stdout",
     "output_type": "stream",
     "text": [
      "<re.Match object; span=(0, 2), match='Hi'>\n",
      "None\n",
      "<re.Match object; span=(10, 13), match='csm'>\n"
     ]
    }
   ],
   "source": [
    "import re\n",
    "\n",
    "str = \"Hi we are csm students from kitsw p\"\n",
    "\n",
    "m = re.search(\"Hi\", str)\n",
    "n = re.search(\"CSM\", str)\n",
    "x = re.search(\"CSM\", str, re.IGNORECASE)\n",
    "\n",
    "print(m)\n",
    "print(n)\n",
    "print(x)"
   ]
  },
  {
   "cell_type": "code",
   "execution_count": 32,
   "metadata": {},
   "outputs": [
    {
     "name": "stdout",
     "output_type": "stream",
     "text": [
      "match x: ['python', 'python']\n",
      "match y: ['python', 'python', 'Python']\n",
      "length of x: 2\n",
      "length of y: 3\n"
     ]
    }
   ],
   "source": [
    "import re\n",
    "\n",
    "str = \"We are executing python prograns in python lab. Python is fun\"\n",
    "\n",
    "x = re.findall(\"python\", str)\n",
    "y = re.findall(\"python\", str, re.IGNORECASE)\n",
    "\n",
    "print(\"match x:\",x)\n",
    "print(\"match y:\",y)\n",
    "print(\"length of x:\",len(x))\n",
    "print(\"length of y:\",len(y))"
   ]
  },
  {
   "cell_type": "code",
   "execution_count": 36,
   "metadata": {},
   "outputs": [
    {
     "name": "stdout",
     "output_type": "stream",
     "text": [
      "['python', 'python', 'PYTHON', 'Python']\n"
     ]
    }
   ],
   "source": [
    "import re\n",
    "\n",
    "str = \"We are executing python programs in python lab. This is lab number 06. We are in SE LAB in floor 01. PYTHON is 1 of our 3 labs. Python is very very fun.\"\n",
    "\n",
    "a = re.findall(\"python\", str, re.IGNORECASE)\n",
    "\n",
    "print(a)\n"
   ]
  },
  {
   "cell_type": "code",
   "execution_count": 57,
   "metadata": {},
   "outputs": [
    {
     "name": "stdout",
     "output_type": "stream",
     "text": [
      "hello123@gmail.com\n",
      "hello123@gmail.com\n"
     ]
    }
   ],
   "source": [
    "import re\n",
    "\n",
    "str = \"Iam venkat sai teja. My mobile number is 987654321. My email address is hello123@gmail.com. I dob is 01-01-2000.\"\n",
    "\n",
    "email = re.search(r\"[a-z]+[0-9]+[@]+[a-z]+\\.+com\",str)\n",
    "emailsir = re.search(r\"[\\w.-]+@+[\\w.-]+com\",str)\n",
    "\n",
    "print(email.group())\n",
    "print(emailsir.group())\n"
   ]
  },
  {
   "cell_type": "code",
   "execution_count": 66,
   "metadata": {},
   "outputs": [
    {
     "name": "stdout",
     "output_type": "stream",
     "text": [
      "9876543210\n"
     ]
    }
   ],
   "source": [
    "import re\n",
    "\n",
    "str = \"Iam venkat sai teja. My mobile number is 9876543210. My email address is hello123@gmail.com. I dob is 01-01-2000.\"\n",
    "\n",
    "number = re.search(r\"\\d{10}\",str)\n",
    "\n",
    "print(number.group())\n"
   ]
  },
  {
   "cell_type": "code",
   "execution_count": 67,
   "metadata": {},
   "outputs": [
    {
     "name": "stdout",
     "output_type": "stream",
     "text": [
      "01-01-2000\n"
     ]
    }
   ],
   "source": [
    "import re\n",
    "\n",
    "str = \"Iam venky. My mobile number is 9876543210. My email address is hello123@gmail.com. I dob is 01-01-2000.\"\n",
    "\n",
    "dob = re.search(r\"\\d{2}-\\d{2}-\\d{4}\",str)\n",
    "\n",
    "print(dob.group())"
   ]
  }
 ],
 "metadata": {
  "interpreter": {
   "hash": "8df092bfa2a7941e3a633739def87ce31ced0aee2a4beadb497a281d9d579ff4"
  },
  "kernelspec": {
   "display_name": "Python 3.10.2 64-bit (windows store)",
   "language": "python",
   "name": "python3"
  },
  "language_info": {
   "codemirror_mode": {
    "name": "ipython",
    "version": 3
   },
   "file_extension": ".py",
   "mimetype": "text/x-python",
   "name": "python",
   "nbconvert_exporter": "python",
   "pygments_lexer": "ipython3",
   "version": "3.8.8"
  },
  "orig_nbformat": 4
 },
 "nbformat": 4,
 "nbformat_minor": 2
}
