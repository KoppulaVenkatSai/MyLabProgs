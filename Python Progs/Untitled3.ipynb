{
 "cells": [
  {
   "cell_type": "code",
   "execution_count": null,
   "id": "37b8341a",
   "metadata": {},
   "outputs": [
    {
     "name": "stdout",
     "output_type": "stream",
     "text": [
      "Enter any number to convert into binary, Enter '999' to exit.\n",
      "Enter the number: 1000\n",
      "1000 in binary: 0b1111101000\n"
     ]
    }
   ],
   "source": [
    "print(\"Enter any number to convert into binary, Enter '999' to exit.\")\n",
    "while True:\n",
    "    x = int(input(\"Enter the number: \"))\n",
    "    if x == 999:\n",
    "        break\n",
    "    elif x < 0:\n",
    "        print(\"Enter positive numbers\")\n",
    "    else:\n",
    "        print(x,\"in binary:\",bin(x))"
   ]
  },
  {
   "cell_type": "code",
   "execution_count": null,
   "id": "27188123",
   "metadata": {},
   "outputs": [],
   "source": []
  },
  {
   "cell_type": "code",
   "execution_count": null,
   "id": "3d5ec218",
   "metadata": {},
   "outputs": [],
   "source": []
  }
 ],
 "metadata": {
  "kernelspec": {
   "display_name": "Python 3",
   "language": "python",
   "name": "python3"
  },
  "language_info": {
   "codemirror_mode": {
    "name": "ipython",
    "version": 3
   },
   "file_extension": ".py",
   "mimetype": "text/x-python",
   "name": "python",
   "nbconvert_exporter": "python",
   "pygments_lexer": "ipython3",
   "version": "3.8.8"
  }
 },
 "nbformat": 4,
 "nbformat_minor": 5
}
