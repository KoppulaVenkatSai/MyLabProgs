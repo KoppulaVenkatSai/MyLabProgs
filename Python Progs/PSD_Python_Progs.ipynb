{
 "cells": [
  {
   "cell_type": "code",
   "execution_count": 14,
   "id": "dadffea5",
   "metadata": {},
   "outputs": [
    {
     "name": "stdout",
     "output_type": "stream",
     "text": [
      "Enter start date: 5\n",
      "Enter total days: 31\n",
      "\n",
      "Sun   Mon   Tue   Wed   Thu   Fri   Sat\n",
      "-----------------------------------------\n",
      "                        01    02    03    \n",
      "\n",
      "04    05    06    07    08    09    10    \n",
      "\n",
      "11    12    13    14    15    16    17    \n",
      "\n",
      "18    19    20    21    22    23    24    \n",
      "\n",
      "25    26    27    28    29    30    31    \n",
      "\n"
     ]
    }
   ],
   "source": [
    "srt = int(input(\"Enter start date: \"))\n",
    "tot = int(input(\"Enter total days: \"))\n",
    "temp = 1\n",
    "print(\"\\nSun   Mon   Tue   Wed   Thu   Fri   Sat\")\n",
    "print(\"-----------------------------------------\")\n",
    "for i in range(srt-1):\n",
    "    print(\"  \", end=\"    \")\n",
    "    temp += 1\n",
    "for i in range(1, tot+1):\n",
    "    if i < 10:\n",
    "        print(\"0\", end=\"\")\n",
    "    print(str(i), end=\"    \")\n",
    "    if temp % 7 == 0:\n",
    "        print(\"\\n\")\n",
    "    temp += 1"
   ]
  },
  {
   "cell_type": "code",
   "execution_count": 20,
   "id": "090cb7ee",
   "metadata": {},
   "outputs": [
    {
     "name": "stdout",
     "output_type": "stream",
     "text": [
      "1000\n"
     ]
    }
   ],
   "source": [
    "def fun(x):\n",
    "    print(x**3)\n",
    "ret = lambda a: a\n",
    "fun(ret(10))\n",
    "        "
   ]
  },
  {
   "cell_type": "code",
   "execution_count": 24,
   "id": "33179ee9",
   "metadata": {},
   "outputs": [
    {
     "name": "stdout",
     "output_type": "stream",
     "text": [
      "Enter the number: 128\n",
      "0\n"
     ]
    }
   ],
   "source": [
    "n = int(input(\"Enter the number: \"))\n",
    "def fun(n):\n",
    "    if n == 0:\n",
    "        return (0)\n",
    "    else:\n",
    "        m = n % 10\n",
    "        n = n / 10\n",
    "        return(fun(n))\n",
    "p = fun(n)\n",
    "print(p)\n",
    "        "
   ]
  },
  {
   "cell_type": "code",
   "execution_count": null,
   "id": "e71d9280",
   "metadata": {},
   "outputs": [],
   "source": []
  }
 ],
 "metadata": {
  "kernelspec": {
   "display_name": "Python 3",
   "language": "python",
   "name": "python3"
  },
  "language_info": {
   "codemirror_mode": {
    "name": "ipython",
    "version": 3
   },
   "file_extension": ".py",
   "mimetype": "text/x-python",
   "name": "python",
   "nbconvert_exporter": "python",
   "pygments_lexer": "ipython3",
   "version": "3.8.8"
  }
 },
 "nbformat": 4,
 "nbformat_minor": 5
}
