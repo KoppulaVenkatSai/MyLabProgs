{
 "cells": [
  {
   "cell_type": "code",
   "execution_count": 1,
   "id": "c00dfcb9",
   "metadata": {},
   "outputs": [
    {
     "name": "stdout",
     "output_type": "stream",
     "text": [
      "Enter any positive integer to convert into binary. Enter 999 to exit.\n",
      "Enter new number: 12\n",
      "Binary representation of entered number is: 1100\n",
      "Enter new number: 128\n",
      "Binary representation of entered number is: 10000000\n",
      "Enter new number: 29\n",
      "Binary representation of entered number is: 11101\n",
      "Enter new number: 30\n",
      "Binary representation of entered number is: 11110\n",
      "Enter new number: 999\n"
     ]
    }
   ],
   "source": [
    "print(\"Enter any positive integer to convert into binary. Enter 999 to exit.\")\n",
    "while True:\n",
    "    n = int(input(\"Enter new number: \"))\n",
    "    if n == 999: break\n",
    "    if n % 2 == 0: \n",
    "        flag = 1\n",
    "    temp = n\n",
    "    var = 0\n",
    "    for i in range(n):\n",
    "        if temp % 2 == 1: break\n",
    "        else:\n",
    "            var+=1\n",
    "            temp//=2\n",
    "    rem = 0\n",
    "    while True:\n",
    "        if n == 0:\n",
    "            break\n",
    "        elif n == 1:\n",
    "            rem = rem*10 + 1\n",
    "        else:\n",
    "            rem = rem*10 + n%2\n",
    "        n//=2\n",
    "    s = str(rem)\n",
    "    res = s[::-1]\n",
    "    if var > 0:\n",
    "        for i in range(var):\n",
    "            res = res + \"0\"\n",
    "    print(\"Binary representation of entered number is:\",int(res))"
   ]
  },
  {
   "cell_type": "code",
   "execution_count": 2,
   "id": "9af74553",
   "metadata": {},
   "outputs": [
    {
     "name": "stdout",
     "output_type": "stream",
     "text": [
      "Enter numbers to find the largest, enter 0 to exit.\n",
      "Enter new number: 30\n",
      "Enter new number: 55\n",
      "Enter new number: 44\n",
      "Enter new number: 99\n",
      "Enter new number: 654\n",
      "Enter new number: 0\n",
      "Exit? Enter 'yes' or 'no': yes\n",
      "Largest number entered so far is: 654\n"
     ]
    }
   ],
   "source": [
    "print(\"Enter numbers to find the largest, enter 0 to exit.\")\n",
    "max = -99999\n",
    "while True:\n",
    "    n = int(input(\"Enter new number: \"))\n",
    "    if n == 0:\n",
    "        flag = input(\"Exit? Enter 'yes' or 'no': \")\n",
    "        if flag == \"yes\":\n",
    "            break\n",
    "    if n > max:\n",
    "        max = n\n",
    "print(\"Largest number entered so far is:\",max)"
   ]
  },
  {
   "cell_type": "code",
   "execution_count": 7,
   "id": "f2fefa08",
   "metadata": {},
   "outputs": [],
   "source": [
    "def fun():\n",
    "    a = int(input('Enter 1st integer: '))\n",
    "    b = int(input('Enter 2nd integer: '))\n",
    "    c = int(input('Enter 3rd integer: '))\n",
    "    if a > b:\n",
    "        if(a > c):\n",
    "            print(a,\"is largest\")\n",
    "        else:\n",
    "            print(c,\"is largest\")\n",
    "    elif b > c:\n",
    "        print(b,\"is largest\")\n",
    "fun()\n"
   ]
  },
  {
   "cell_type": "code",
   "execution_count": 6,
   "id": "405b1f1b",
   "metadata": {},
   "outputs": [
    {
     "name": "stdout",
     "output_type": "stream",
     "text": [
      "The sum of series is: 2.283333333333333\n"
     ]
    }
   ],
   "source": [
    "def fun1():\n",
    "    n = int(input(\"Enter the number: \"))\n",
    "    a = 0.0\n",
    "    for i in range(1, n+1):\n",
    "        a += 1.0/i\n",
    "    print(\"The sum of series is:\",a)\n",
    "fun1()"
   ]
  },
  {
   "cell_type": "code",
   "execution_count": 20,
   "id": "4fcc47a0",
   "metadata": {},
   "outputs": [
    {
     "name": "stdout",
     "output_type": "stream",
     "text": [
      "370 is not amstrong\n"
     ]
    }
   ],
   "source": [
    "n = int(input(\"Enter any number to check whethre amstrong number: \"))\n",
    "s = str(n)\n",
    "l = len(s)\n",
    "sum = 0\n",
    "for i in range(1, len(s)+1):\n",
    "    sum +=  int(i)**l\n",
    "if sum == n:\n",
    "    print(n,\"is amstrong\")\n",
    "else:\n",
    "    print(n,\"is not amstrong\")\n",
    "    \n"
   ]
  },
  {
   "cell_type": "code",
   "execution_count": 9,
   "id": "0c5ab80f",
   "metadata": {},
   "outputs": [
    {
     "name": "stdout",
     "output_type": "stream",
     "text": [
      "20 is largest\n"
     ]
    }
   ],
   "source": [
    "x = lambda a, b: a > b\n",
    "a = input(\"Enter 1st value: \")\n",
    "b = input(\"Enter 2nd value: \")\n",
    "flag = x(a, b)\n",
    "if flag == True:\n",
    "    print(a,\"is largest\")\n",
    "else:\n",
    "    print(b,\"is largest\")"
   ]
  },
  {
   "cell_type": "code",
   "execution_count": null,
   "id": "9e65ff8e",
   "metadata": {},
   "outputs": [],
   "source": []
  },
  {
   "cell_type": "code",
   "execution_count": 2,
   "id": "3ce42021",
   "metadata": {},
   "outputs": [
    {
     "name": "stdout",
     "output_type": "stream",
     "text": [
      "* \n",
      "* * \n",
      "* * * \n",
      "* * * * \n",
      "* * * * * \n",
      "* * * * \n",
      "* * * \n",
      "* * \n",
      "* \n",
      "\n"
     ]
    }
   ],
   "source": [
    "n = int(input(\"Enter value of n: \"))\n",
    "for i in range(1, n+1):\n",
    "    for j in range(1, i+1):\n",
    "        print(\"*\",end=\" \")\n",
    "    print()\n",
    "for i in range(n, 0, -1):\n",
    "    for j in range(1, i):\n",
    "        print(\"*\", end=\" \")\n",
    "    print()"
   ]
  }
 ],
 "metadata": {
  "kernelspec": {
   "display_name": "Python 3",
   "language": "python",
   "name": "python3"
  },
  "language_info": {
   "codemirror_mode": {
    "name": "ipython",
    "version": 3
   },
   "file_extension": ".py",
   "mimetype": "text/x-python",
   "name": "python",
   "nbconvert_exporter": "python",
   "pygments_lexer": "ipython3",
   "version": "3.8.8"
  }
 },
 "nbformat": 4,
 "nbformat_minor": 5
}
