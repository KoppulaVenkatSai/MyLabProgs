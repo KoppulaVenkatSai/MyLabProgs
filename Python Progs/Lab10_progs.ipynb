{
 "cells": [
  {
   "cell_type": "code",
   "execution_count": 1,
   "metadata": {},
   "outputs": [
    {
     "name": "stdout",
     "output_type": "stream",
     "text": [
      "Name: Venky\n",
      "Rollno: 25\n",
      "Branch: CSM\n"
     ]
    }
   ],
   "source": [
    "#Using __init__ method (dynamic)\n",
    "\n",
    "class student:\n",
    "    name = ''; rollno = 0; branch = '';\n",
    "    def __init__(self, name, rollno, branch):\n",
    "        self.name = name\n",
    "        self.rollno = rollno\n",
    "        self.branch = branch\n",
    "    def dispdata(self):\n",
    "        print(\"Name:\",self.name)\n",
    "        print(\"Rollno:\",self.rollno)\n",
    "        print(\"Branch:\",self.branch)\n",
    "\n",
    "o1 = student(\"Venky\", 25, \"CSM\")\n",
    "o1.dispdata()"
   ]
  },
  {
   "cell_type": "code",
   "execution_count": 4,
   "metadata": {},
   "outputs": [
    {
     "name": "stdout",
     "output_type": "stream",
     "text": [
      "Name: Anirudh\n",
      "Rollno: 13\n",
      "Branch: CSM\n"
     ]
    }
   ],
   "source": [
    "#Without using __init__ method (dynamic)\n",
    "\n",
    "class student:\n",
    "    name = 'Anirudh'; rollno = 13; branch = 'CSM';\n",
    "    def dispdata(self):\n",
    "        print(\"Name:\",self.name)\n",
    "        print(\"Rollno:\",self.rollno)\n",
    "        print(\"Branch:\",self.branch)\n",
    "\n",
    "o1 = student()\n",
    "o1.dispdata()"
   ]
  },
  {
   "cell_type": "code",
   "execution_count": 8,
   "metadata": {},
   "outputs": [
    {
     "name": "stdout",
     "output_type": "stream",
     "text": [
      "colour: Red\n",
      "model: Rodster\n",
      "price: $90,000\n",
      "\n",
      "colour: Silver\n",
      "model: Model 3\n",
      "price: $45,000\n",
      "\n"
     ]
    }
   ],
   "source": [
    "class car:\n",
    "    colour = ''; model = ''; price = '';\n",
    "    def __init__(self, colour, model, price):\n",
    "        self.colour = colour\n",
    "        self.model = model\n",
    "        self.price = price\n",
    "    def dispdata(self):\n",
    "        print(\"colour:\",self.colour)\n",
    "        print(\"model:\",self.model)\n",
    "        print(\"price:\",self.price)\n",
    "        print()\n",
    "\n",
    "o1 = car(\"Red\", \"Rodster\", \"$90,000\")\n",
    "o1.dispdata()\n",
    "o2 = car(\"Silver\", \"Model 3\", \"$45,000\")\n",
    "o2.dispdata()\n"
   ]
  },
  {
   "cell_type": "code",
   "execution_count": 24,
   "metadata": {},
   "outputs": [
    {
     "name": "stdout",
     "output_type": "stream",
     "text": [
      "15 is not a prime number\n",
      "97 is a prime number\n",
      "1 is neither prime nor composite\n"
     ]
    }
   ],
   "source": [
    "class prime_or_not:\n",
    "    n = 0\n",
    "    def __init__(self, n):\n",
    "        self.n = n\n",
    "        flag = True\n",
    "        if self.n == 1:\n",
    "            print(\"1 is neither prime nor composite\")\n",
    "            return None\n",
    "        for i in range(2, (n//2)+1):\n",
    "            if n%i == 0:\n",
    "                print(n,\"is not a prime number\")\n",
    "                flag = False\n",
    "                break\n",
    "            else:\n",
    "                continue\n",
    "        if flag == True:\n",
    "            print(n,\"is a prime number\")\n",
    "o1 = prime_or_not(15)\n",
    "o2 = prime_or_not(97)\n",
    "o3 = prime_or_not(1)\n"
   ]
  },
  {
   "cell_type": "code",
   "execution_count": 27,
   "metadata": {},
   "outputs": [
    {
     "name": "stdout",
     "output_type": "stream",
     "text": [
      "Complex Representation is: 2+3i\n"
     ]
    }
   ],
   "source": [
    "class complex:\n",
    "    real = ''; imgi = '';\n",
    "    def __init__(self, real, imgi):\n",
    "        self.real = real\n",
    "        self.imgi = imgi\n",
    "    def dispdata(self):\n",
    "        print(\"Complex Representation is:\",str(self.real)+\"+\"+str(self.imgi)+\"i\")\n",
    "\n",
    "r = input(\"Enter real part: \")\n",
    "i = input(\"Enter imaginary part: \")\n",
    "c1 = complex(r, i)\n",
    "c1.dispdata()"
   ]
  },
  {
   "cell_type": "code",
   "execution_count": 51,
   "metadata": {},
   "outputs": [
    {
     "name": "stdout",
     "output_type": "stream",
     "text": [
      "Type 'exit' to exit\n",
      "List of even digits entered: [654654, 564654, 654654, 4654, 654, 646, 456, 4156, 456, 4, 4, 54, 54, 65463464, 64, 864, 74, 864, 654, 6512]\n",
      "List of odd digits entered: [515, 465, 465, 465, 465, 1, 6548643]\n"
     ]
    }
   ],
   "source": [
    "class eveodd:\n",
    "    eve =[]; odd = []\n",
    "     \n",
    "    def __init__(self, n):\n",
    "        if n != \"exit\":\n",
    "            if n % 2 == 0:\n",
    "                self.eve.append(n)\n",
    "            elif n % 2 == 1:\n",
    "                self.odd.append(n)\n",
    "\n",
    "print(\"Type 'exit' to exit\")\n",
    "while True:\n",
    "    n = input(\"Enter a number\")\n",
    "    if n != \"exit\" and n.isdigit():\n",
    "        eveodd(int(n))\n",
    "    elif n == \"exit\":\n",
    "        break\n",
    "    else:\n",
    "        print(\"Enter valid input\")\n",
    "\n",
    "obj = eveodd(\"exit\")\n",
    "\n",
    "print(\"List of even digits entered:\",obj.eve)\n",
    "print(\"List of odd digits entered:\",obj.odd)"
   ]
  },
  {
   "cell_type": "code",
   "execution_count": 40,
   "metadata": {},
   "outputs": [
    {
     "name": "stdout",
     "output_type": "stream",
     "text": [
      "Name (protected): Venky\n",
      "Rollno (public): B20AI025\n",
      "password (private): 123456789\n"
     ]
    }
   ],
   "source": [
    "# Accessing in same class\n",
    "class access_specs:\n",
    "    _name = \"Venky\"; rollno = \"B20AI025\"; __password = \"123456789\"\n",
    "    def dispdata(self):\n",
    "        print(\"Name (protected):\",self._name)\n",
    "        print(\"Rollno (public):\",self.rollno)\n",
    "        print(\"password (private):\",self.__password)\n",
    "\n",
    "o1 = access_specs()\n",
    "o1.dispdata()\n"
   ]
  },
  {
   "cell_type": "code",
   "execution_count": 46,
   "metadata": {},
   "outputs": [
    {
     "name": "stdout",
     "output_type": "stream",
     "text": [
      "Rollno (public): B20AI025\n",
      "Name (protected): Venky\n"
     ]
    },
    {
     "ename": "AttributeError",
     "evalue": "'ref' object has no attribute '__password'",
     "output_type": "error",
     "traceback": [
      "\u001b[1;31m---------------------------------------------------------------------------\u001b[0m",
      "\u001b[1;31mAttributeError\u001b[0m                            Traceback (most recent call last)",
      "\u001b[1;32m<ipython-input-46-736133e06503>\u001b[0m in \u001b[0;36m<module>\u001b[1;34m\u001b[0m\n\u001b[0;32m      7\u001b[0m \u001b[0mprint\u001b[0m\u001b[1;33m(\u001b[0m\u001b[1;34m\"Rollno (public):\"\u001b[0m\u001b[1;33m,\u001b[0m\u001b[0mo1\u001b[0m\u001b[1;33m.\u001b[0m\u001b[0mrollno\u001b[0m\u001b[1;33m)\u001b[0m\u001b[1;33m\u001b[0m\u001b[1;33m\u001b[0m\u001b[0m\n\u001b[0;32m      8\u001b[0m \u001b[0mprint\u001b[0m\u001b[1;33m(\u001b[0m\u001b[1;34m\"Name (protected):\"\u001b[0m\u001b[1;33m,\u001b[0m\u001b[0mo1\u001b[0m\u001b[1;33m.\u001b[0m\u001b[0m_name\u001b[0m\u001b[1;33m)\u001b[0m\u001b[1;33m\u001b[0m\u001b[1;33m\u001b[0m\u001b[0m\n\u001b[1;32m----> 9\u001b[1;33m \u001b[0mprint\u001b[0m\u001b[1;33m(\u001b[0m\u001b[1;34m\"password (private):\"\u001b[0m\u001b[1;33m,\u001b[0m\u001b[0mo1\u001b[0m\u001b[1;33m.\u001b[0m\u001b[0m__password\u001b[0m\u001b[1;33m)\u001b[0m\u001b[1;33m\u001b[0m\u001b[1;33m\u001b[0m\u001b[0m\n\u001b[0m",
      "\u001b[1;31mAttributeError\u001b[0m: 'ref' object has no attribute '__password'"
     ]
    }
   ],
   "source": [
    "# Accessing in different class\n",
    "class ref:\n",
    "    _name = \"Venky\"; rollno = \"B20AI025\"; __password = \"123456789\"\n",
    "\n",
    "o1 = ref()\n",
    "\n",
    "print(\"Rollno (public):\",o1.rollno)\n",
    "print(\"Name (protected):\",o1._name)\n",
    "print(\"password (private):\",o1.__password)\n"
   ]
  },
  {
   "cell_type": "code",
   "execution_count": 58,
   "metadata": {},
   "outputs": [
    {
     "name": "stdout",
     "output_type": "stream",
     "text": [
      "Count of objects: 5\n"
     ]
    }
   ],
   "source": [
    "class cnt:\n",
    "    cntobj = 0\n",
    "    def __init__(self, oxkjf):\n",
    "        cnt.cntobj += 1  \n",
    "   \n",
    "o1 = cnt(1)\n",
    "o1 = cnt(\"fgsg\")\n",
    "o1 = cnt(313.5454) \n",
    "o1 = cnt(\"hi\")\n",
    "o1 = cnt(0)\n",
    "\n",
    "print(\"Count of objects:\",o1.cntobj)"
   ]
  }
 ],
 "metadata": {
  "interpreter": {
   "hash": "83bfd64022da19afdb71b0a07b7fcf207a9bfe1d9fc4a761274ff4a02e07b1c9"
  },
  "kernelspec": {
   "display_name": "Python 3.10.2 64-bit (windows store)",
   "language": "python",
   "name": "python3"
  },
  "language_info": {
   "codemirror_mode": {
    "name": "ipython",
    "version": 3
   },
   "file_extension": ".py",
   "mimetype": "text/x-python",
   "name": "python",
   "nbconvert_exporter": "python",
   "pygments_lexer": "ipython3",
   "version": "3.8.8"
  },
  "orig_nbformat": 4
 },
 "nbformat": 4,
 "nbformat_minor": 2
}
