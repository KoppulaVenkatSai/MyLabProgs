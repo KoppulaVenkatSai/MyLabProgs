{
 "cells": [
  {
   "cell_type": "code",
   "execution_count": 18,
   "id": "d8aeb5ff",
   "metadata": {},
   "outputs": [
    {
     "name": "stdout",
     "output_type": "stream",
     "text": [
      "Enter an integer: 15\n",
      "Enter another integer: 7\n",
      "\n",
      "Addition = 22 \n",
      "Subtraction = 8 \n",
      "Multiplication = 105 \n",
      "Division = 2.142857142857143 \n",
      "Remainder = 1 \n",
      "exponent = 170859375 \n",
      "Float div = 2\n"
     ]
    }
   ],
   "source": [
    "a = int(input('Enter an integer: '))\n",
    "b = int(input('Enter another integer: '))\n",
    "print('\\nAddition =', a+b,'\\nSubtraction =',a-b,'\\nMultiplication =',a*b,'\\nDivision =',a/b,'\\nRemainder =',a%b,\n",
    "      '\\nexponent =',a**b,'\\nFloat div =',a//b)"
   ]
  },
  {
   "cell_type": "code",
   "execution_count": 11,
   "id": "fd23942b",
   "metadata": {},
   "outputs": [
    {
     "name": "stdout",
     "output_type": "stream",
     "text": [
      "Enter a String: hi\n",
      "Enter another string to concatinate: hello\n",
      "\n",
      "Concatinated String: hihello\n",
      "Length of required String: 7\n"
     ]
    }
   ],
   "source": [
    "str1 = input(\"Enter a String: \")\n",
    "str2 = input(\"Enter another string to concatinate: \")\n",
    "reqstr = str1 + str2\n",
    "strlen = len(reqstr)\n",
    "print(\"\\nConcatinated String:\",reqstr)\n",
    "print(\"Length of required String:\",strlen)"
   ]
  },
  {
   "cell_type": "code",
   "execution_count": 12,
   "id": "5b464420",
   "metadata": {},
   "outputs": [
    {
     "name": "stdout",
     "output_type": "stream",
     "text": [
      "Enter a Character in uppercase: A\n",
      "Lowercase of entered character: a\n"
     ]
    }
   ],
   "source": [
    "char = input(\"Enter a Character in uppercase: \")\n",
    "print(\"Lowercase of entered character:\", char.lower())"
   ]
  },
  {
   "cell_type": "code",
   "execution_count": null,
   "id": "f8aafaf2",
   "metadata": {},
   "outputs": [],
   "source": [
    "a = int(input(\"Enter a number into a: \"))\n",
    "b = int(input(\"Enter another number into b: \"))\n",
    "print(\"Before swapping: a =\",a,\"b =\",b)\n",
    "temp = a\n",
    "a = b\n",
    "b = temp\n",
    "print(\"After swapping: a =\",a,\"b =\",b)"
   ]
  },
  {
   "cell_type": "code",
   "execution_count": 16,
   "id": "0fba82d2",
   "metadata": {},
   "outputs": [
    {
     "name": "stdout",
     "output_type": "stream",
     "text": [
      "Enter a floating point number: 6456.54654\n",
      "Enter another floating point number: 54.6548\n",
      "Required Output: 6511\n"
     ]
    }
   ],
   "source": [
    "a = float(input(\"Enter a floating point number: \"))\n",
    "b = float(input(\"Enter another floating point number: \"))\n",
    "print(\"Required Output:\", int(a+b))"
   ]
  },
  {
   "cell_type": "code",
   "execution_count": 30,
   "id": "85242445",
   "metadata": {},
   "outputs": [
    {
     "name": "stdout",
     "output_type": "stream",
     "text": [
      "Enter principal value: 90000\n",
      "Enter interest rate: 2\n",
      "Enter amount of time (in years): 5\n",
      "\n",
      "Simple interest = 9000.0\n",
      "Enter compounded interest rate (in years): 5\n",
      "\n",
      "Compound interest = 99445.5444184622\n"
     ]
    }
   ],
   "source": [
    "value = int(input(\"Enter principal value: \"))\n",
    "interest = int(input(\"Enter interest rate: \"))\n",
    "time = int(input(\"Enter amount of time (in years): \"))\n",
    "\n",
    "s_interest = value*(interest/100)*time\n",
    "print(\"\\nSimple interest =\",s_interest)\n",
    "\n",
    "cir = int(input(\"Enter compounded interest rate (in years): \"))\n",
    "\n",
    "c_interest =value*(1 + ((interest/100)/cir))**(cir*time)\n",
    "print(\"\\nCompound interest =\",c_interest)"
   ]
  },
  {
   "cell_type": "code",
   "execution_count": 31,
   "id": "e64928c6",
   "metadata": {},
   "outputs": [
    {
     "name": "stdout",
     "output_type": "stream",
     "text": [
      "Enter base salary: 600000\n",
      "Total Salary (Base salary + HRA + DA + TA) = 870000.0\n"
     ]
    }
   ],
   "source": [
    "base_sal = float(input(\"Enter base salary: \"))\n",
    "HRA = base_sal * 0.10\n",
    "DA = base_sal * 0.30\n",
    "TA = base_sal * 0.05\n",
    "\n",
    "print(\"\\nTotal Salary (Base salary + HRA + DA + TA) =\",base_sal+HRA+DA+TA)"
   ]
  },
  {
   "cell_type": "code",
   "execution_count": 33,
   "id": "5cf50c5e",
   "metadata": {},
   "outputs": [
    {
     "name": "stdout",
     "output_type": "stream",
     "text": [
      "Total no. of seconds in a day =  86400\n"
     ]
    }
   ],
   "source": [
    "print(\"Total no. of seconds in a day = \",60*60*24)"
   ]
  },
  {
   "cell_type": "code",
   "execution_count": 36,
   "id": "eda4b549",
   "metadata": {},
   "outputs": [
    {
     "name": "stdout",
     "output_type": "stream",
     "text": [
      "Enter mass(in KG) =100\n",
      "velocity(in m/s)=2\n",
      "Momentum = 400000.0\n"
     ]
    }
   ],
   "source": [
    "mass = float(input(\"Enter mass(in KG) =\"))\n",
    "velocity = float(input(\"velocity(in m/s)=\"))\n",
    "print(\"Momentum =\",(mass*1000)*(velocity**2))"
   ]
  },
  {
   "cell_type": "code",
   "execution_count": null,
   "id": "a685e313",
   "metadata": {},
   "outputs": [],
   "source": []
  }
 ],
 "metadata": {
  "kernelspec": {
   "display_name": "Python 3",
   "language": "python",
   "name": "python3"
  },
  "language_info": {
   "codemirror_mode": {
    "name": "ipython",
    "version": 3
   },
   "file_extension": ".py",
   "mimetype": "text/x-python",
   "name": "python",
   "nbconvert_exporter": "python",
   "pygments_lexer": "ipython3",
   "version": "3.8.8"
  }
 },
 "nbformat": 4,
 "nbformat_minor": 5
}
