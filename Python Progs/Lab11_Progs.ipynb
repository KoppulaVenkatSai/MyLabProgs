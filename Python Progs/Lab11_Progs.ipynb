{
 "cells": [
  {
   "cell_type": "code",
   "execution_count": 9,
   "metadata": {},
   "outputs": [
    {
     "name": "stdout",
     "output_type": "stream",
     "text": [
      "x in base class: 10\n",
      "Base Class Function called\n"
     ]
    }
   ],
   "source": [
    "class base:\n",
    "    x = 10\n",
    "    def base_fun(self):\n",
    "        print(\"Base Class Function called\")\n",
    "\n",
    "class derv(base): #Simple inherit\n",
    "    y = 100\n",
    "\n",
    "\n",
    "o1 = derv()\n",
    "print(\"x in base class:\",o1.x)\n",
    "o1.base_fun()\n"
   ]
  },
  {
   "cell_type": "code",
   "execution_count": 11,
   "metadata": {},
   "outputs": [
    {
     "name": "stdout",
     "output_type": "stream",
     "text": [
      "x in base class from derv2: 10\n",
      "Base Class Function called\n",
      "Derv1 Class Function called\n"
     ]
    }
   ],
   "source": [
    "class base:\n",
    "    x = 10\n",
    "    def base_fun(self):\n",
    "        print(\"Base Class Function called\")\n",
    "\n",
    "class derv1(base):\n",
    "    y = 100\n",
    "    def derv1_fun(self):\n",
    "        print(\"Derv1 Class Function called\")\n",
    "\n",
    "class derv2(derv1): #Multi level Inherit\n",
    "    z = 1000\n",
    "\n",
    "\n",
    "o1 = derv2()\n",
    "print(\"x in base class from derv2:\",o1.x)\n",
    "o1.base_fun()\n",
    "o1.derv1_fun()  \n"
   ]
  },
  {
   "cell_type": "code",
   "execution_count": 12,
   "metadata": {},
   "outputs": [
    {
     "name": "stdout",
     "output_type": "stream",
     "text": [
      "x: 10\n",
      "y: 100\n",
      "Base1 Class Function called\n",
      "Base2 Class Function called\n"
     ]
    }
   ],
   "source": [
    "class base1:\n",
    "    x = 10\n",
    "    def base1_fun(self):\n",
    "        print(\"Base1 Class Function called\")\n",
    "\n",
    "class base2():\n",
    "    y = 100\n",
    "    def base2_fun(self):\n",
    "        print(\"Base2 Class Function called\")\n",
    "\n",
    "\n",
    "class derv(base1, base2): #Multiple inherit\n",
    "    z = 1000\n",
    "\n",
    "\n",
    "o1 = derv()\n",
    "print(\"x:\",o1.x)\n",
    "print(\"y:\",o1.y)\n",
    "o1.base1_fun()\n",
    "o1.base2_fun()\n"
   ]
  },
  {
   "cell_type": "code",
   "execution_count": 13,
   "metadata": {},
   "outputs": [
    {
     "name": "stdout",
     "output_type": "stream",
     "text": [
      "x: 10\n",
      "y: 100\n",
      "z: 1000\n",
      "Base1 Class Function called\n",
      "Base2 Class Function called\n"
     ]
    }
   ],
   "source": [
    "class base1:\n",
    "    x = 10\n",
    "    def base1_fun(self):\n",
    "        print(\"Base1 Class Function called\")\n",
    "\n",
    "class base2():\n",
    "    y = 100\n",
    "    def base2_fun(self):\n",
    "        print(\"Base2 Class Function called\")\n",
    "\n",
    "\n",
    "class derv(base1, base2):\n",
    "    z = 1000\n",
    "\n",
    "class hybrid_derv(derv): #Hybrid inherit\n",
    "    a = 986434\n",
    "\n",
    "\n",
    "o1 = hybrid_derv()\n",
    "print(\"x:\",o1.x)\n",
    "print(\"y:\",o1.y)\n",
    "print(\"z:\",o1.z)\n",
    "o1.base1_fun()\n",
    "o1.base2_fun()"
   ]
  },
  {
   "cell_type": "code",
   "execution_count": 15,
   "metadata": {},
   "outputs": [
    {
     "name": "stdout",
     "output_type": "stream",
     "text": [
      "Grand parent, x: 10\n",
      "Parent, a: 1000\n",
      "Parent, b: 2000\n",
      "Base1 Class Function called\n"
     ]
    }
   ],
   "source": [
    "class base:\n",
    "    x = 10\n",
    "    def base1_fun(self):\n",
    "        print(\"Grand parent Function called\")\n",
    "\n",
    "\n",
    "class derv1(base1):\n",
    "    a = 1000\n",
    "\n",
    "class derv2(base1):\n",
    "    b = 2000\n",
    "\n",
    "\n",
    "class multipath_derv(derv1, derv2): #Multipath inherit\n",
    "    p = 9864432\n",
    "\n",
    "\n",
    "o1 = multipath_derv()\n",
    "print(\"Grand parent, x:\",o1.x)\n",
    "print(\"Parent, a:\",o1.a)\n",
    "print(\"Parent, b:\",o1.b)\n",
    "o1.base1_fun()"
   ]
  },
  {
   "cell_type": "code",
   "execution_count": 33,
   "metadata": {},
   "outputs": [
    {
     "name": "stdout",
     "output_type": "stream",
     "text": [
      "Anirudh is topper: 9.98\n",
      "Venky is thopper: 9.99\n"
     ]
    }
   ],
   "source": [
    "class anirudh:\n",
    "    marks = 9.98\n",
    "    def topper(self):\n",
    "        print(\"Anirudh is topper:\", self.marks)\n",
    "\n",
    "class venky(anirudh):\n",
    "    def sup_topper(self):\n",
    "        super().topper()\n",
    "    def topper(self):\n",
    "        print(\"Venky is thopper:\", super().marks + 0.01)\n",
    "    \n",
    "\n",
    "venky().sup_topper()\n",
    "venky().topper()"
   ]
  },
  {
   "cell_type": "code",
   "execution_count": null,
   "metadata": {},
   "outputs": [],
   "source": []
  }
 ],
 "metadata": {
  "interpreter": {
   "hash": "183bbf6827d058c2a2fb0f4acdc0420849dda2b4380af0e437e38c64d798d8b7"
  },
  "kernelspec": {
   "display_name": "Python 3.8.8 ('base')",
   "language": "python",
   "name": "python3"
  },
  "language_info": {
   "codemirror_mode": {
    "name": "ipython",
    "version": 3
   },
   "file_extension": ".py",
   "mimetype": "text/x-python",
   "name": "python",
   "nbconvert_exporter": "python",
   "pygments_lexer": "ipython3",
   "version": "3.8.8"
  },
  "orig_nbformat": 4
 },
 "nbformat": 4,
 "nbformat_minor": 2
}
