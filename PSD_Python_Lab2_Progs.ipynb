{
 "cells": [
  {
   "cell_type": "code",
   "execution_count": 38,
   "id": "b6981436",
   "metadata": {
    "scrolled": true
   },
   "outputs": [
    {
     "name": "stdout",
     "output_type": "stream",
     "text": [
      "Count of uppercase characters: 3 \n",
      "Count of lowercase characters: 3 \n",
      "Count of digits: 3\n"
     ]
    }
   ],
   "source": [
    "str = \"AbC8d5E5f\"\n",
    "length = len(str)\n",
    "ucount = 0\n",
    "lcount = 0\n",
    "digcount = 0\n",
    "spcount = 0\n",
    "for i in range(0,length):\n",
    "    if str[i] >= \"A\" and str[i] <= \"Z\" :\n",
    "        ucount+=1\n",
    "    elif str[i] >= \"a\" and str[i] <= \"z\" :\n",
    "        lcount+=1\n",
    "    elif str[i].isdigit() :\n",
    "        digcount+=1\n",
    "print(\"Count of uppercase characters:\",ucount,\"\\nCount of lowercase characters:\",lcount,\"\\nCount of digits:\",digcount)"
   ]
  },
  {
   "cell_type": "code",
   "execution_count": 25,
   "id": "32a05255",
   "metadata": {},
   "outputs": [
    {
     "name": "stdout",
     "output_type": "stream",
     "text": [
      "Enter a: 1\n",
      "Enter b: -4\n",
      "Enter c: 4\n",
      "x = 2.0\n",
      "y = 2.0\n"
     ]
    }
   ],
   "source": [
    "import math\n",
    "\n",
    "a = int(input('Enter a: '))\n",
    "b = int(input('Enter b: '))\n",
    "c = int(input('Enter c: '))\n",
    "\n",
    "x = (-b + math.sqrt(b**2 - 4*a*c))/(2*a)\n",
    "y = (-b - math.sqrt(b**2 - 4*a*c))/(2*a)\n",
    "\n",
    "     \n",
    "print(\"x =\",x)\n",
    "print(\"y =\",y)"
   ]
  },
  {
   "cell_type": "code",
   "execution_count": 40,
   "id": "f2e3ce50",
   "metadata": {},
   "outputs": [
    {
     "name": "stdout",
     "output_type": "stream",
     "text": [
      "Enter the character:  \n",
      "Space\n"
     ]
    }
   ],
   "source": [
    "char = input(\"Enter the character: \")\n",
    "if char.isalpha():\n",
    "        print(\"Alphabet\")\n",
    "elif char.isdigit():\n",
    "    print(\"Digit\")\n",
    "elif char == \" \":\n",
    "    print(\"Space\")\n",
    "else:\n",
    "    print(\"Special character\")"
   ]
  },
  {
   "cell_type": "code",
   "execution_count": 29,
   "id": "b3bab9b6",
   "metadata": {},
   "outputs": [
    {
     "name": "stdout",
     "output_type": "stream",
     "text": [
      "Enter 1st integer: 6548\n",
      "Enter 2nd integer: 1321\n",
      "Enter 3rd integer: 9845\n",
      "9845 is largest\n"
     ]
    }
   ],
   "source": [
    "a = int(input('Enter 1st integer: '))\n",
    "b = int(input('Enter 2nd integer: '))\n",
    "c = int(input('Enter 3rd integer: '))\n",
    "if a > b:\n",
    "    if(a > c):\n",
    "        print(a,\"is largest\")\n",
    "    else:\n",
    "        print(c,\"is largest\")\n",
    "elif b > c:\n",
    "    print(b,\"is largest\")\n",
    "    else: \n",
    "        print(c,\"is largest\")"
   ]
  },
  {
   "cell_type": "code",
   "execution_count": 41,
   "id": "496f4145",
   "metadata": {},
   "outputs": [
    {
     "name": "stdout",
     "output_type": "stream",
     "text": [
      "Enter year to check whether leap yearr or not: 2020\n",
      "2020 is a leap year\n"
     ]
    }
   ],
   "source": [
    "yy = int(input(\"Enter year to check whether leap yearr or not: \"))\n",
    "if yy % 4 == 0 and yy % 100 != 0 :\n",
    "    print(yy,\"is a leap year\")\n",
    "elif yy % 400 == 0 :\n",
    "    print(yy,\"is a leap year\")\n",
    "else: print(yy,\"is not a leap year\")\n"
   ]
  },
  {
   "cell_type": "code",
   "execution_count": 48,
   "id": "b5f8b72e",
   "metadata": {},
   "outputs": [
    {
     "name": "stdout",
     "output_type": "stream",
     "text": [
      "Enter any no.of integers to find count, Enter -1 to exit\n",
      "Enter new number: 5\n",
      "Enter new number: 2\n",
      "Enter new number: 4\n",
      "Enter new number: -3\n",
      "Enter new number: -5\n",
      "Enter new number: -7\n",
      "Enter new number: -1\n",
      "Exit?, Enter 'yes' or 'no': no\n",
      "Enter new number: -1\n",
      "Exit?, Enter 'yes' or 'no': yes\n",
      "\n",
      "Count of positive numbers: 3 \n",
      "Count of negative numbers: 4 \n",
      "Count of zeroes: 0\n"
     ]
    }
   ],
   "source": [
    "pcount = 0\n",
    "ncount = 0\n",
    "zcount = 0\n",
    "print(\"Enter any no.of integers to find count, Enter -1 to exit\")\n",
    "while True :\n",
    "    i = int(input(\"Enter new number: \"))\n",
    "    if i > 0:\n",
    "        pcount+=1\n",
    "    elif i < -1:\n",
    "        ncount+=1\n",
    "    elif i == 0:\n",
    "        zcount+=1\n",
    "    elif i == -1:\n",
    "        flag = input(\"Exit?, Enter 'yes' or 'no': \")\n",
    "        if flag == \"no\":\n",
    "            ncount+=1\n",
    "        else:\n",
    "            break\n",
    "print(\"\\nCount of positive numbers:\",pcount,\"\\nCount of negative numbers:\",ncount,\"\\nCount of zeroes:\",zcount)"
   ]
  },
  {
   "cell_type": "code",
   "execution_count": null,
   "id": "0cc04b66",
   "metadata": {},
   "outputs": [],
   "source": []
  }
 ],
 "metadata": {
  "kernelspec": {
   "display_name": "Python 3",
   "language": "python",
   "name": "python3"
  },
  "language_info": {
   "codemirror_mode": {
    "name": "ipython",
    "version": 3
   },
   "file_extension": ".py",
   "mimetype": "text/x-python",
   "name": "python",
   "nbconvert_exporter": "python",
   "pygments_lexer": "ipython3",
   "version": "3.8.8"
  }
 },
 "nbformat": 4,
 "nbformat_minor": 5
}
